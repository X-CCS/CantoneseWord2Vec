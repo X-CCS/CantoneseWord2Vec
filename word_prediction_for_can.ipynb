{
 "cells": [
  {
   "cell_type": "code",
   "execution_count": 1,
   "metadata": {
    "pycharm": {
     "is_executing": false
    }
   },
   "outputs": [],
   "source": [
    "import tensorflow as tf\n",
    "from tensorflow import keras\n",
    "import numpy as np\n",
    "import matplotlib.pyplot as plt\n",
    "from gensim.models import Word2Vec,KeyedVectors,FastText,word2vec\n"
   ]
  },
  {
   "cell_type": "code",
   "execution_count": 2,
   "metadata": {
    "pycharm": {
     "is_executing": false,
     "name": "#%% Some helper\n"
    }
   },
   "outputs": [],
   "source": [
    "def word2idx(model, word):\n",
    "  return model.wv.vocab[word].index\n",
    "def idx2word(model, idx):\n",
    "  return model.wv.index2word[idx]\n"
   ]
  },
  {
   "cell_type": "code",
   "execution_count": 3,
   "metadata": {
    "pycharm": {
     "is_executing": false
    }
   },
   "outputs": [],
   "source": [
    "def load_fasttext(model_path):\n",
    "    model = FastText.load(model_path)\n",
    "    return model\n",
    "def load_w2vModel(model_path):\n",
    "    model = Word2Vec.load(model_path)\n",
    "    return model"
   ]
  },
  {
   "cell_type": "code",
   "execution_count": null,
   "metadata": {
    "collapsed": false,
    "jupyter": {
     "outputs_hidden": false
    },
    "pycharm": {
     "name": "#%%\n"
    }
   },
   "outputs": [],
   "source": [
    "path_prefix = \"F:/fasttextoutput/20epochs/0.75/\"\n",
    "model_name = \"Place name here\"\n",
    "word2vec_model = load_fasttext(path_prefix+model_name)"
   ]
  },
  {
   "cell_type": "code",
   "execution_count": null,
   "outputs": [],
   "source": [
    "train_file_path = \"./segmented_wordprediction\"\n",
    "valid_file_path = \"\"\n",
    "\n",
    "train_sentences = word2vec.PathLineSentences(train_file_path)\n",
    "valid_sentences = word2vec.PathLineSentences(valid_file_paths)\n",
    "\n",
    "\n",
    "w2v_embeddings = np.concatenate((np.zeros((1, wordEncodingSize)), w2v.wv.syn0)) #add <UNK> to the vocab all zeros"
   ],
   "metadata": {
    "collapsed": false,
    "pycharm": {
     "name": "#%%\n"
    }
   }
  }
 ],
 "metadata": {
  "kernelspec": {
   "display_name": "Python 3",
   "language": "python",
   "name": "python3"
  },
  "language_info": {
   "codemirror_mode": {
    "name": "ipython",
    "version": 3
   },
   "file_extension": ".py",
   "mimetype": "text/x-python",
   "name": "python",
   "nbconvert_exporter": "python",
   "pygments_lexer": "ipython3",
   "version": "3.7.4"
  },
  "pycharm": {
   "stem_cell": {
    "cell_type": "raw",
    "source": [],
    "metadata": {
     "collapsed": false
    }
   }
  }
 },
 "nbformat": 4,
 "nbformat_minor": 4
}